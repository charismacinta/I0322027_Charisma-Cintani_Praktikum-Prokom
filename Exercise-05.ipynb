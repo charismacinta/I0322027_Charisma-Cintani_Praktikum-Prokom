{
 "cells": [
  {
   "attachments": {},
   "cell_type": "markdown",
   "metadata": {},
   "source": [
    "1. Buatlah program untuk menampilkan total penjumlahan bilangan ganjil dan total penjumlahan bilangan genap dengan input dari user berupa range (batas atas dan batas bawah)!"
   ]
  },
  {
   "cell_type": "code",
   "execution_count": 1,
   "metadata": {},
   "outputs": [
    {
     "name": "stdout",
     "output_type": "stream",
     "text": [
      "Total penjumlahan bilangan ganjil adalah 8 dan total penjumlahan bilangan genap adalah 6\n"
     ]
    }
   ],
   "source": [
    "# Kerjakan nomor 1 di sini\n",
    "\n",
    "batas_atas = int(input(\"Masukkan batas atas:\"))\n",
    "batas_bawah = int(input(\"Masukkan batas bawah:\"))\n",
    "\n",
    "bilangan_ganjil = 0\n",
    "bilangan_genap = 0\n",
    "\n",
    "for bilangan in range ( batas_bawah, batas_atas+1):\n",
    "    if bilangan % 2 == 1:\n",
    "        bilangan_ganjil += bilangan\n",
    "    else:\n",
    "        bilangan_genap += bilangan\n",
    "print(\"Total penjumlahan bilangan ganjil adalah\", bilangan_ganjil, \"dan total penjumlahan bilangan genap adalah\", bilangan_genap)"
   ]
  },
  {
   "attachments": {},
   "cell_type": "markdown",
   "metadata": {},
   "source": [
    "2. Buatlah sebuah list yang berisi daftar makanan khas daerah (minimal 10 makanan termasuk makanan khas Solo). Kemudian buat program pencarian menggunakan pengulangan. Apabila nama makanan yang user inputkan sudah sesuai dengan isi list maka program akan berhenti dan menampilkan output \"(makanan yang diinput user) adalah makanan khas daerah\"."
   ]
  },
  {
   "cell_type": "code",
   "execution_count": 2,
   "metadata": {},
   "outputs": [
    {
     "name": "stdout",
     "output_type": "stream",
     "text": [
      "===============================================\n",
      "     DAFTAR MAKANAN KHAS DAERAH INDONESIA      \n",
      "===============================================\n",
      "Gudeg\n",
      "Kerak Telor\n",
      "Nasi Padang\n",
      "Bika Ambon\n",
      "Selat Solo\n",
      "Bestik\n",
      "Kroket\n",
      "Timlo\n",
      "Nasi Liwet\n",
      "Sate Kere\n",
      "Bakmi Toprak\n",
      "Cabuk Rambak\n",
      "Serabi\n",
      "Sosis Solo\n",
      "===============================================\n",
      "Pecel bukan makanan khas daerah Indonesia\n",
      "Timlo adalah makanan khas daerah Indonesia\n"
     ]
    }
   ],
   "source": [
    "# Kerjakan nomor 2 di sini\n",
    "print(\"===============================================\")\n",
    "print(\"     DAFTAR MAKANAN KHAS DAERAH INDONESIA      \")\n",
    "print(\"===============================================\")\n",
    "Makanan_Khas_Daerah = [\"Gudeg\", \"Kerak Telor\", \"Nasi Padang\", \"Bika Ambon\", \"Selat Solo\", \"Bestik\", \"Kroket\", \"Timlo\", \"Nasi Liwet\", \"Sate Kere\", \"Bakmi Toprak\", \"Cabuk Rambak\", \"Serabi\", \"Sosis Solo\"]\n",
    "for Daftar_Makanan in Makanan_Khas_Daerah:\n",
    "    print(Daftar_Makanan)\n",
    "print(\"===============================================\")\n",
    "while True:\n",
    "    makanan_user = input(\"Input Makanan yang Anda inginkan: \")\n",
    "    if makanan_user in Makanan_Khas_Daerah:\n",
    "        print(makanan_user, \"adalah makanan khas daerah Indonesia\")\n",
    "        break\n",
    "    else:\n",
    "        print(makanan_user, \"bukan makanan khas daerah Indonesia\")\n"
   ]
  },
  {
   "attachments": {},
   "cell_type": "markdown",
   "metadata": {},
   "source": [
    "3. Buatlah program untuk menghitung rata-rata 7 bilangan dimana bilangan-bilangan tersebut didapat melalui input user!"
   ]
  },
  {
   "cell_type": "code",
   "execution_count": 6,
   "metadata": {},
   "outputs": [
    {
     "name": "stdout",
     "output_type": "stream",
     "text": [
      "Rata-rata dari ketujuh bilangan tersebut adalah 4.0\n"
     ]
    }
   ],
   "source": [
    "# Kerjakan nomor 3 di sini\n",
    "\n",
    "jumlah = 0\n",
    "bilangan_ke = 1\n",
    "\n",
    "while bilangan_ke <= 7:\n",
    "    bilangan = float(input(\"Masukkan bilangan ke-{}:\".format(bilangan_ke)))\n",
    "    jumlah += bilangan\n",
    "    bilangan_ke += 1\n",
    "\n",
    "mean = jumlah/7\n",
    "print (\"Rata-rata dari ketujuh bilangan tersebut adalah\", mean)\n"
   ]
  }
 ],
 "metadata": {
  "kernelspec": {
   "display_name": "Python 3",
   "language": "python",
   "name": "python3"
  },
  "language_info": {
   "codemirror_mode": {
    "name": "ipython",
    "version": 3
   },
   "file_extension": ".py",
   "mimetype": "text/x-python",
   "name": "python",
   "nbconvert_exporter": "python",
   "pygments_lexer": "ipython3",
   "version": "3.10.7"
  },
  "orig_nbformat": 4
 },
 "nbformat": 4,
 "nbformat_minor": 2
}
