{
 "cells": [
  {
   "cell_type": "code",
   "execution_count": 38,
   "metadata": {},
   "outputs": [
    {
     "name": "stdout",
     "output_type": "stream",
     "text": [
      "1 2 3 \n",
      "4 5 6 \n",
      "7 8 9 \n"
     ]
    }
   ],
   "source": [
    "#Buatlah sebuah fungsi untuk membuat matrix berdasarkan input dari user\n",
    "\n",
    "def create_matrix(baris,kolom):\n",
    "    matrix = []\n",
    "    \n",
    "    #Tulis kode kamu disini\n",
    "    for i in range (baris):\n",
    "        row = []\n",
    "        for j in range (kolom):\n",
    "            j = input(f\"Masukkan nilai pada baris {i+1} dan kolom {j+1}: \")\n",
    "            row.append(j)\n",
    "        matrix.append(row)\n",
    "    return matrix\n",
    "\n",
    "def printmatrix(matrix):\n",
    "    for i in range(len(matrix)):\n",
    "        for j in range(len(matrix[0])):\n",
    "            print(matrix [i][j],end=\" \")\n",
    "        print()\n",
    "\n",
    "baris = int(input('Masukkan Jumlah Baris:\\t'))\n",
    "kolom = int(input('Masukkan Jumlah Kolom:\\t'))\n",
    "\n",
    "matrix=create_matrix(baris,kolom)\n",
    "printmatrix(matrix)\n"
   ]
  },
  {
   "cell_type": "code",
   "execution_count": 4,
   "metadata": {},
   "outputs": [
    {
     "name": "stdout",
     "output_type": "stream",
     "text": [
      "Matrix1 :\n",
      "[1, 2]\n",
      "[3, 4]\n",
      "MatrixB :\n",
      "[2, 2]\n",
      "[1, 2]\n",
      "\n",
      "Hasil penjumlahan antara matrixA dan MatrixB adalah: \n",
      "[3, 4]\n",
      "[4, 6]\n"
     ]
    }
   ],
   "source": [
    "#Buatlah sebuah fungsi untuk menambah dua matrix berdasarkan input user\n",
    "\n",
    "def tambah_matrix(matrix1,matrix2):\n",
    "    tambah = []\n",
    "\n",
    "    #Tulis kode kamu disini\n",
    "\n",
    "    return tambah\n",
    "baris = int(input('Masukkan Jumlah Baris:\\t'))\n",
    "kolom = int(input('Masukkan Jumlah Kolom:\\t'))\n",
    "\n",
    "matrixA = [[int(input(f\"Untuk MatrixA, inputkan angka pada baris {i+1} dan kolom {j+1} : \")) for i in range(baris)] for j in range(kolom)]\n",
    "print('Matrix1 :')\n",
    "for i in matrixA:\n",
    "    print(i)\n",
    "    \n",
    "matrixB = [[int(input(f\"Untuk MatrixB, inputkan angka pada baris {i+1} dan kolom {j+1} : \")) for i in range(baris)] for j in range(kolom)]\n",
    "print('MatrixB :')\n",
    "for i in matrixB:\n",
    "    print(i)\n",
    "\n",
    "result = [[0 for i in range(baris)] for j in range(kolom)]\n",
    "for i in range(baris):\n",
    "    for j in range(kolom):\n",
    "        result[i][j] = matrixA[i][j] + matrixB[i][j]\n",
    "\n",
    "print()\n",
    "print('Hasil penjumlahan antara matrixA dan MatrixB adalah: ')\n",
    "tambah_matrix(matrixA, matrixB)\n",
    "for i in result:\n",
    "    print(i)"
   ]
  },
  {
   "cell_type": "code",
   "execution_count": 12,
   "metadata": {},
   "outputs": [
    {
     "name": "stdout",
     "output_type": "stream",
     "text": [
      "Matrix 1\n",
      "[[2, 1], [3, 1], [1, 2]]\n",
      "Matrix 2\n",
      "[[2], [1]]\n",
      "\n",
      "Hasil perkalian antara matrixA dan MatrixB adalah: \n",
      "[5]\n",
      "[7]\n",
      "[4]\n"
     ]
    }
   ],
   "source": [
    "#Buatlah fungsi untuk mengakalikan dua buah matrix berdasarkan input user\n",
    "\n",
    "def multiply_matrix(matrix1, matrix2):\n",
    "    result=[]\n",
    "\n",
    "    #Tulis kode kamu disini\n",
    "    \n",
    "    return result\n",
    "baris_a = int(input('Masukkan Jumlah Baris Untuk Matrix A:\\t'))\n",
    "kolom_a= int(input('Masukkan Jumlah Kolom Untuk Matrix A:\\t'))\n",
    "\n",
    "matrix_1 = []\n",
    "print(\"Matrix 1\")\n",
    "for i in range(0,baris_a):\n",
    "    matrix_1.append([])\n",
    "for i in range(0,baris_a):\n",
    "    for j in range(0,kolom_a):\n",
    "        matrix_1[i].append(j)\n",
    "        matrix_1[i][j]=0\n",
    "        matrix_1[i][j] = int(input(f'Untuk Matrix1 inputkan nilai pada baris {i+1} dan kolom {j+1}'))\n",
    "print(matrix_1)\n",
    "    \n",
    "baris_b = int(input('Masukkan Jumlah Baris Untuk Matrix B:\\t'))\n",
    "kolom_b = int(input('Masukkan Jumlah Kolom Untuk Matrix B:\\t'))\n",
    "\n",
    "matrix_2 = []\n",
    "print(\"Matrix 2\")\n",
    "for i in range(0,baris_b):\n",
    "    matrix_2.append([])\n",
    "for i in range(0,baris_b):\n",
    "    for j in range(0,kolom_b):\n",
    "        matrix_2[i].append(j)\n",
    "        matrix_2[i][j]=0\n",
    "        matrix_2[i][j] = int(input(f'Untuk Matrix2 inputkan nilai pada baris {i+1} dan kolom {j+1}:'))\n",
    "print(matrix_2)\n",
    "\n",
    "Result = []\n",
    "for i in range(0,baris_a):\n",
    "    Result.append([])\n",
    "for i in range(0,baris_a):\n",
    "    for j in range(0,kolom_b):\n",
    "        Result[i].append(j)\n",
    "        Result[i][j]=0\n",
    "for baris_b in range(len(matrix_1)):\n",
    "    for kolom_b in range(len(matrix_2[0])):\n",
    "        for r in range(len(matrix_2)):\n",
    "            Result[baris_b][kolom_b] += matrix_1[baris_b][r] * matrix_2[r][kolom_b]  \n",
    "\n",
    "print()\n",
    "print('Hasil perkalian antara matrixA dan MatrixB adalah: ')\n",
    "multiply_matrix(matrix_1, matrix_2)\n",
    "for i in Result:\n",
    "    print(i)\n"
   ]
  }
 ],
 "metadata": {
  "kernelspec": {
   "display_name": "Python 3",
   "language": "python",
   "name": "python3"
  },
  "language_info": {
   "codemirror_mode": {
    "name": "ipython",
    "version": 3
   },
   "file_extension": ".py",
   "mimetype": "text/x-python",
   "name": "python",
   "nbconvert_exporter": "python",
   "pygments_lexer": "ipython3",
   "version": "3.10.7"
  },
  "orig_nbformat": 4
 },
 "nbformat": 4,
 "nbformat_minor": 2
}
