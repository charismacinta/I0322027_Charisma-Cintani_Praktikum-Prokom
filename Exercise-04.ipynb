{
 "cells": [
  {
   "cell_type": "code",
   "execution_count": 1,
   "metadata": {},
   "outputs": [
    {
     "name": "stdout",
     "output_type": "stream",
     "text": [
      "Charisma Cinta\n",
      "I0322027\n",
      "A\n"
     ]
    }
   ],
   "source": [
    "print(input(\"Nama   : \"))\n",
    "print(input(\"NIM    : \"))\n",
    "print(input(\"Kelas  : \"))"
   ]
  },
  {
   "attachments": {},
   "cell_type": "markdown",
   "metadata": {},
   "source": [
    "## 1."
   ]
  },
  {
   "attachments": {},
   "cell_type": "markdown",
   "metadata": {},
   "source": [
    "Buatlah program persyaratan pembuatan SIM dengan input yaitu nama user, umur user, dan nilai tes user.<br>\n",
    "Dengan ketentuan mendapat SIM sebagai berikut:\n",
    "* Umur dari user harus lebih dari sama dengan 17 tahun\n",
    "* Nilai tes lebih dari sama dengan 70\n",
    "\n",
    "<br>Output yang dihasilkan dari program adalah:\n",
    "<br>\"Selamat Anda Berhak Mendapatkan SIM Anda\"\n",
    "<br>\"Maaf, Anda tidak berhak mendapatkan SIM anda\"\n",
    "> *note: Kerjakan soal ini dengan percabangan*"
   ]
  },
  {
   "cell_type": "code",
   "execution_count": 3,
   "metadata": {},
   "outputs": [
    {
     "name": "stdout",
     "output_type": "stream",
     "text": [
      "Maaf Anda tidak mendapatkan SIM Anda\n"
     ]
    }
   ],
   "source": [
    "# Kerjakan soal no 1 di sini\n",
    "\n",
    "# Pengguna diminta untuk menginputkan nama\n",
    "nama_user = (input(\"Masukkan nama Anda:\"))\n",
    "# Pengguna diminta untuk menginputkan umur\n",
    "umur_user = int(input(\"Masukkan umur Anda:\"))\n",
    "# Pengguna diminta untuk menginputkan nilai tes\n",
    "nilai_tes_user = int(input(\"Masukkan nilai tes Anda:\"))\n",
    "\n",
    "if umur_user >= 17 and nilai_tes_user >=70:\n",
    "    print(\"Selamat Anda berhak mendapatkan SIM Anda\")\n",
    "else:\n",
    "    print(\"Maaf Anda tidak mendapatkan SIM Anda\")"
   ]
  },
  {
   "attachments": {},
   "cell_type": "markdown",
   "metadata": {},
   "source": [
    "## 2."
   ]
  },
  {
   "attachments": {},
   "cell_type": "markdown",
   "metadata": {},
   "source": [
    "Buatlah program untuk mencari bilangan terbesar yang diinput dari user.<br>\n",
    "<br>Dengan ketentuan sebagai berikut:\n",
    "* Program nenerima 3 input bilangan dari user\n",
    "* Program akan menentukan mana bilangan terbesar\n",
    "* Output yang akan dihasilkan misalnya adalah \"Dari bil_1, bil_2, dan bil_3, bilangan terbesarnya adalah bilangan bil_2\"\n",
    "> *note: Kerjakan soal ini dengan percabangan*"
   ]
  },
  {
   "cell_type": "code",
   "execution_count": 1,
   "metadata": {},
   "outputs": [
    {
     "name": "stdout",
     "output_type": "stream",
     "text": [
      "Dari bilangan 2 , bilangan 10 , dan bilangan 5\n",
      "Bilangan terbesarnya adalah bilangan  10\n"
     ]
    }
   ],
   "source": [
    "# Kerjakan soal nomor 2 disini\n",
    "\n",
    "# Pengguna diminta untuk menginputkan 3 bilangan\n",
    "bil_1 = int(input(\"Masukkan nilai bilangan pertama   : \"))\n",
    "bil_2 = int(input(\"Masukkan nilai bilangan kedua     : \"))\n",
    "bil_3 = int(input(\"Masukkan nilai bilangan ketiga    : \"))\n",
    "maks = 0\n",
    "\n",
    "if bil_1 > bil_2:\n",
    "    maks = bil_1\n",
    "elif bil_2 > bil_3:\n",
    "    maks = bil_2\n",
    "else:\n",
    "    maks = bil_3\n",
    "print (\"Dari bilangan\",bil_1, \", bilangan\", bil_2, \", dan bilangan\", bil_3)\n",
    "print(\"Bilangan terbesarnya adalah bilangan \",maks)\n"
   ]
  }
 ],
 "metadata": {
  "kernelspec": {
   "display_name": "Python 3",
   "language": "python",
   "name": "python3"
  },
  "language_info": {
   "codemirror_mode": {
    "name": "ipython",
    "version": 3
   },
   "file_extension": ".py",
   "mimetype": "text/x-python",
   "name": "python",
   "nbconvert_exporter": "python",
   "pygments_lexer": "ipython3",
   "version": "3.10.7"
  },
  "orig_nbformat": 4
 },
 "nbformat": 4,
 "nbformat_minor": 2
}
